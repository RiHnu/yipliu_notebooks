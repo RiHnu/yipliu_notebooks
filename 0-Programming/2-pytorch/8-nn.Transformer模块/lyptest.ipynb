{
 "cells": [
  {
   "cell_type": "code",
   "execution_count": 3,
   "metadata": {},
   "outputs": [
    {
     "data": {
      "text/plain": [
       "tensor([[[0.9478, 0.6358, 0.9984, 0.0856, 0.4441, 0.9071],\n",
       "         [0.6112, 0.3534, 0.1136, 0.5069, 0.0829, 0.9931],\n",
       "         [0.7688, 0.8169, 0.6902, 0.0610, 0.6234, 0.7116]],\n",
       "\n",
       "        [[0.3939, 0.9462, 0.2055, 0.6481, 0.9522, 0.4416],\n",
       "         [0.4580, 0.3384, 0.1144, 0.3285, 0.3575, 0.7760],\n",
       "         [0.0310, 0.9631, 0.5324, 0.5837, 0.8244, 0.2937]]])"
      ]
     },
     "execution_count": 3,
     "metadata": {},
     "output_type": "execute_result"
    }
   ],
   "source": [
    "import torch\n",
    "\n",
    "\n",
    "hid_dim = 6\n",
    "\n",
    "n_heads = 2\n",
    "head_dim = hid_dim // n_heads # 3\n",
    "\n",
    "\n",
    "a = torch.rand([2, 3, hid_dim])\n",
    "a"
   ]
  },
  {
   "cell_type": "code",
   "execution_count": 5,
   "metadata": {},
   "outputs": [
    {
     "data": {
      "text/plain": [
       "tensor([[[[0.9478, 0.6358, 0.9984],\n",
       "          [0.6112, 0.3534, 0.1136],\n",
       "          [0.7688, 0.8169, 0.6902]],\n",
       "\n",
       "         [[0.0856, 0.4441, 0.9071],\n",
       "          [0.5069, 0.0829, 0.9931],\n",
       "          [0.0610, 0.6234, 0.7116]]],\n",
       "\n",
       "\n",
       "        [[[0.3939, 0.9462, 0.2055],\n",
       "          [0.4580, 0.3384, 0.1144],\n",
       "          [0.0310, 0.9631, 0.5324]],\n",
       "\n",
       "         [[0.6481, 0.9522, 0.4416],\n",
       "          [0.3285, 0.3575, 0.7760],\n",
       "          [0.5837, 0.8244, 0.2937]]]])"
      ]
     },
     "execution_count": 5,
     "metadata": {},
     "output_type": "execute_result"
    }
   ],
   "source": [
    "a.view(2, -1, n_heads, head_dim).permute(0, 2, 1, 3)"
   ]
  },
  {
   "cell_type": "code",
   "execution_count": null,
   "metadata": {},
   "outputs": [],
   "source": []
  }
 ],
 "metadata": {
  "interpreter": {
   "hash": "af46610efe07dbb805ae95a079798cb71ed903d66d1d557ee2f5820d04ac0314"
  },
  "kernelspec": {
   "display_name": "Python 3.8.12 ('simmc38')",
   "language": "python",
   "name": "python3"
  },
  "language_info": {
   "codemirror_mode": {
    "name": "ipython",
    "version": 3
   },
   "file_extension": ".py",
   "mimetype": "text/x-python",
   "name": "python",
   "nbconvert_exporter": "python",
   "pygments_lexer": "ipython3",
   "version": "3.8.12"
  },
  "orig_nbformat": 4
 },
 "nbformat": 4,
 "nbformat_minor": 2
}
