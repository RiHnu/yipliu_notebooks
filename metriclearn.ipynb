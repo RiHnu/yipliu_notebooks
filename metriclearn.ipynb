{
 "cells": [
  {
   "cell_type": "code",
   "execution_count": 1,
   "metadata": {},
   "outputs": [],
   "source": [
    "import torch\n",
    "import torchmetrics"
   ]
  },
  {
   "cell_type": "code",
   "execution_count": 2,
   "metadata": {},
   "outputs": [
    {
     "name": "stdout",
     "output_type": "stream",
     "text": [
      "Accuracy on batch 0: 0.20000000298023224\n",
      "Accuracy on batch 1: 0.30000001192092896\n",
      "Accuracy on batch 2: 0.30000001192092896\n"
     ]
    }
   ],
   "source": [
    "metric = torchmetrics.Accuracy()\n",
    "\n",
    "n_batches = 3\n",
    "for i in range(n_batches):\n",
    "    preds1 = torch.randn(10, 5).softmax(dim=-1)\n",
    "    target1 = torch.randint(5, (10,))\n",
    "\n",
    "    acc1 = metric(preds1, target1)\n",
    "\n",
    "    print(f\"Accuracy on batch {i}: {acc1}\")\n",
    "\n",
    "    "
   ]
  },
  {
   "cell_type": "code",
   "execution_count": 3,
   "metadata": {},
   "outputs": [
    {
     "data": {
      "text/plain": [
       "tensor([[0.1042, 0.6140, 0.0487, 0.1160, 0.1170],\n",
       "        [0.1121, 0.1124, 0.1121, 0.4814, 0.1821],\n",
       "        [0.1753, 0.6374, 0.0412, 0.0193, 0.1268],\n",
       "        [0.0671, 0.0990, 0.6610, 0.0636, 0.1093],\n",
       "        [0.2337, 0.5695, 0.0664, 0.0528, 0.0775],\n",
       "        [0.2337, 0.0796, 0.4169, 0.2372, 0.0326],\n",
       "        [0.1852, 0.1399, 0.3900, 0.2022, 0.0828],\n",
       "        [0.3435, 0.1184, 0.1105, 0.0401, 0.3875],\n",
       "        [0.5711, 0.0265, 0.0566, 0.2816, 0.0642],\n",
       "        [0.3920, 0.1390, 0.1564, 0.2516, 0.0610]])"
      ]
     },
     "execution_count": 3,
     "metadata": {},
     "output_type": "execute_result"
    }
   ],
   "source": [
    "preds1"
   ]
  },
  {
   "cell_type": "code",
   "execution_count": 4,
   "metadata": {},
   "outputs": [
    {
     "data": {
      "text/plain": [
       "tensor([2, 2, 2, 2, 3, 2, 4, 4, 3, 4])"
      ]
     },
     "execution_count": 4,
     "metadata": {},
     "output_type": "execute_result"
    }
   ],
   "source": [
    "target1"
   ]
  },
  {
   "cell_type": "code",
   "execution_count": 8,
   "metadata": {},
   "outputs": [
    {
     "data": {
      "text/plain": [
       "tensor(0.3000)"
      ]
     },
     "execution_count": 8,
     "metadata": {},
     "output_type": "execute_result"
    }
   ],
   "source": [
    "# total accuracy over all training batches\n",
    "metric.compute()"
   ]
  },
  {
   "cell_type": "code",
   "execution_count": 10,
   "metadata": {},
   "outputs": [
    {
     "name": "stdout",
     "output_type": "stream",
     "text": [
      "Accuracy()\n"
     ]
    }
   ],
   "source": [
    "print(metric)"
   ]
  },
  {
   "cell_type": "code",
   "execution_count": 9,
   "metadata": {},
   "outputs": [
    {
     "data": {
      "text/plain": [
       "True"
      ]
     },
     "execution_count": 9,
     "metadata": {},
     "output_type": "execute_result"
    }
   ],
   "source": [
    "torch.cuda.is_available()"
   ]
  },
  {
   "cell_type": "code",
   "execution_count": 5,
   "metadata": {},
   "outputs": [
    {
     "data": {
      "text/plain": [
       "tensor([[-1.3470e+00,  1.2379e+00, -6.6805e-02,  3.4034e-01,  6.5314e-01],\n",
       "        [ 5.7096e-01, -7.9748e-01,  7.1379e-02,  1.5989e-05, -1.3664e+00],\n",
       "        [ 1.0294e+00,  5.7142e-01, -2.0712e-01,  4.8888e-01, -9.4706e-01],\n",
       "        [ 1.6278e+00, -3.3836e-02, -9.9810e-01,  9.2007e-01, -9.6157e-02]])"
      ]
     },
     "execution_count": 5,
     "metadata": {},
     "output_type": "execute_result"
    }
   ],
   "source": [
    "a = torch.randn(4, 5)\n",
    "a"
   ]
  },
  {
   "cell_type": "code",
   "execution_count": 6,
   "metadata": {},
   "outputs": [
    {
     "data": {
      "text/plain": [
       "tensor([[0.0326, 0.4326, 0.1174, 0.1763, 0.2411],\n",
       "        [0.3890, 0.0990, 0.2361, 0.2198, 0.0561],\n",
       "        [0.3782, 0.2393, 0.1098, 0.2203, 0.0524],\n",
       "        [0.5172, 0.0982, 0.0374, 0.2549, 0.0923]])"
      ]
     },
     "execution_count": 6,
     "metadata": {},
     "output_type": "execute_result"
    }
   ],
   "source": [
    "a.softmax(-1)"
   ]
  },
  {
   "cell_type": "code",
   "execution_count": 7,
   "metadata": {},
   "outputs": [
    {
     "data": {
      "text/plain": [
       "1.0"
      ]
     },
     "execution_count": 7,
     "metadata": {},
     "output_type": "execute_result"
    }
   ],
   "source": [
    "0.0326+ 0.4326+ 0.1174+ 0.1763+ 0.2411"
   ]
  },
  {
   "cell_type": "code",
   "execution_count": null,
   "metadata": {},
   "outputs": [],
   "source": [
    "import torch\n",
    "\n",
    "logits = torch.randn(6,10) # [B, vocab_size]\n",
    "logits"
   ]
  },
  {
   "cell_type": "code",
   "execution_count": 1,
   "metadata": {},
   "outputs": [],
   "source": [
    "import torch\n",
    "from torchmetrics import Accuracy"
   ]
  },
  {
   "cell_type": "code",
   "execution_count": 6,
   "metadata": {},
   "outputs": [
    {
     "data": {
      "text/plain": [
       "tensor(0.2500)"
      ]
     },
     "execution_count": 6,
     "metadata": {},
     "output_type": "execute_result"
    }
   ],
   "source": [
    "target = torch.tensor([0, 1,2,3])\n",
    "preds = torch.tensor([2, 0,0,3])\n",
    "accuracy = Accuracy()\n",
    "accuracy(preds, target)"
   ]
  },
  {
   "cell_type": "code",
   "execution_count": 13,
   "metadata": {},
   "outputs": [
    {
     "data": {
      "text/plain": [
       "tensor([[1.0000, 0.9000, 0.0000],\n",
       "        [0.3000, 0.9000, 0.6000],\n",
       "        [0.2000, 0.5000, 0.3000]])"
      ]
     },
     "execution_count": 13,
     "metadata": {},
     "output_type": "execute_result"
    }
   ],
   "source": [
    "target = torch.tensor([0, 1, 2])\n",
    "preds = torch.tensor([[1, 0.9, 0], [0.3, 0.9, 0.6], [0.2, 0.5, 0.3]])\n",
    "preds"
   ]
  },
  {
   "cell_type": "code",
   "execution_count": 14,
   "metadata": {},
   "outputs": [
    {
     "data": {
      "text/plain": [
       "tensor(0.6667)"
      ]
     },
     "execution_count": 14,
     "metadata": {},
     "output_type": "execute_result"
    }
   ],
   "source": [
    "accuracy = Accuracy(top_k=1)\n",
    "accuracy(preds, target)"
   ]
  },
  {
   "cell_type": "markdown",
   "metadata": {},
   "source": [
    "Accuracy 的输入可以是预测的值，也可以是预测的 logits"
   ]
  },
  {
   "cell_type": "code",
   "execution_count": 1,
   "metadata": {},
   "outputs": [],
   "source": [
    "from torchmetrics import MaxMetric\n",
    "\n",
    "metric = MaxMetric()\n",
    "metric.update(1)"
   ]
  },
  {
   "cell_type": "code",
   "execution_count": 2,
   "metadata": {},
   "outputs": [
    {
     "data": {
      "text/plain": [
       "MaxMetric()"
      ]
     },
     "execution_count": 2,
     "metadata": {},
     "output_type": "execute_result"
    }
   ],
   "source": [
    "metric"
   ]
  },
  {
   "cell_type": "code",
   "execution_count": 3,
   "metadata": {},
   "outputs": [],
   "source": [
    "metric.update(10)"
   ]
  },
  {
   "cell_type": "code",
   "execution_count": 4,
   "metadata": {},
   "outputs": [],
   "source": [
    "metric.update(3)"
   ]
  },
  {
   "cell_type": "code",
   "execution_count": 5,
   "metadata": {},
   "outputs": [
    {
     "data": {
      "text/plain": [
       "tensor(10.)"
      ]
     },
     "execution_count": 5,
     "metadata": {},
     "output_type": "execute_result"
    }
   ],
   "source": [
    "metric.compute()"
   ]
  },
  {
   "cell_type": "code",
   "execution_count": null,
   "metadata": {},
   "outputs": [],
   "source": []
  }
 ],
 "metadata": {
  "interpreter": {
   "hash": "8e648427d8336fe76eadafb3632f97b7b3dc5aa4d79f2d6e90e07ac1f811ddac"
  },
  "kernelspec": {
   "display_name": "Python 3.8.12 64-bit ('nlplight': conda)",
   "language": "python",
   "name": "python3"
  },
  "language_info": {
   "codemirror_mode": {
    "name": "ipython",
    "version": 3
   },
   "file_extension": ".py",
   "mimetype": "text/x-python",
   "name": "python",
   "nbconvert_exporter": "python",
   "pygments_lexer": "ipython3",
   "version": "3.8.12"
  },
  "orig_nbformat": 4
 },
 "nbformat": 4,
 "nbformat_minor": 2
}
